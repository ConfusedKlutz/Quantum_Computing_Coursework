{
  "nbformat": 4,
  "nbformat_minor": 0,
  "metadata": {
    "colab": {
      "provenance": [],
      "include_colab_link": true
    },
    "kernelspec": {
      "name": "python3",
      "display_name": "Python 3"
    },
    "language_info": {
      "name": "python"
    }
  },
  "cells": [
    {
      "cell_type": "markdown",
      "metadata": {
        "id": "view-in-github",
        "colab_type": "text"
      },
      "source": [
        "<a href=\"https://colab.research.google.com/github/ConfusedKlutz/Quantum_Computing_Coursework/blob/main/Lab1(Vectors).ipynb\" target=\"_parent\"><img src=\"https://colab.research.google.com/assets/colab-badge.svg\" alt=\"Open In Colab\"/></a>"
      ]
    },
    {
      "cell_type": "markdown",
      "source": [
        "Working with Python in Colab Open your Google Account here https://colab.research.google.com\n",
        "(Refer the video for additional functionalities of Colab https://www.youtube.com/watch?v=rNgswRZ2C1Y)\n",
        "Students can refer to https://www.pythonpool.com/python-vector/ or any other website to learn\n",
        "how to use vectors in Python.\n",
        "• Import NumPy and math package.\n",
        "• Create variables by considering a = 1/√2 and b = 1/√2\n",
        "• Create a vector or One-dimensional array using variables a and b.\n",
        "• Check whether the vector is normalized or not. Vector is normalized if a2 + b2 = 1 in this\n",
        "particular case.\n",
        "• Find the length of a vector."
      ],
      "metadata": {
        "id": "IF0GH810V3wC"
      }
    },
    {
      "cell_type": "code",
      "source": [
        "import numpy as np\n",
        "import pandas as pd\n",
        "\n",
        "a = np.sqrt(1/2)\n",
        "b = np.sqrt(1/2)\n",
        "\n",
        "vector = np.array([a,b])\n",
        "print(vector)\n",
        "\n",
        "if(a**2 + b**2 == 1):\n",
        "  print(\"Normalized\")\n",
        "else:\n",
        "  print(\"Not Normalized\")\n",
        "\n",
        "length = np.linalg.norm(vector)\n",
        "print(length)"
      ],
      "metadata": {
        "colab": {
          "base_uri": "https://localhost:8080/"
        },
        "id": "F-qm1nagV5_9",
        "outputId": "f6ca8e7c-c4d2-4ef3-dfd1-405d685235ac"
      },
      "execution_count": null,
      "outputs": [
        {
          "output_type": "stream",
          "name": "stdout",
          "text": [
            "[0.70710678 0.70710678]\n",
            "Not Normalized\n",
            "1.0\n"
          ]
        }
      ]
    },
    {
      "cell_type": "markdown",
      "source": [
        "# Vectors in python\n",
        "Create a vector and read the elements of the vector from the keyboard.\n",
        "• Write a function that will check whether the function is normalized or not.\n",
        "• Write a function to find the dot and cross product of two vectors (A and B) using NumPy.\n",
        "• Write a function to find a unit vector corresponding to vector A"
      ],
      "metadata": {
        "id": "aQCrR_dTZhA3"
      }
    },
    {
      "cell_type": "code",
      "source": [
        "#Create a vector and read the elements of the vector from the keyboard\n",
        "import numpy as np\n",
        "import pandas as pd\n",
        "x = [ int(input()) for i in range(3)]\n",
        "print(x)"
      ],
      "metadata": {
        "colab": {
          "base_uri": "https://localhost:8080/"
        },
        "id": "JEFqI5eHZm1k",
        "outputId": "f4ca2d78-4d2f-4792-ae6b-14d63d0b2980"
      },
      "execution_count": null,
      "outputs": [
        {
          "output_type": "stream",
          "name": "stdout",
          "text": [
            "1\n",
            "2\n",
            "3\n",
            "[1, 2, 3]\n"
          ]
        }
      ]
    },
    {
      "cell_type": "code",
      "source": [
        "#write a function to check whether the function is normalised or not\n",
        "def is_normalized(vector):\n",
        "    magnitude = np.linalg.norm(vector)\n",
        "    return np.isclose(magnitude, 1.0)"
      ],
      "metadata": {
        "id": "3zGFM6lBbNuR"
      },
      "execution_count": null,
      "outputs": []
    },
    {
      "cell_type": "code",
      "source": [
        "#to check the dot product of two vectors\n",
        "def dot_product(A, B):\n",
        "    return np.dot(A, B)"
      ],
      "metadata": {
        "id": "NZ3VtVxvZgek"
      },
      "execution_count": null,
      "outputs": []
    },
    {
      "cell_type": "code",
      "source": [
        "#to find cross product of two vectors\n",
        "def cross_product(A, B):\n",
        "    if len(A) == 3 and len(B) == 3:\n",
        "        return np.cross(A, B)\n",
        "    else:\n",
        "        raise ValueError(\"Cross product is only defined for 3-dimensional vectors.\")"
      ],
      "metadata": {
        "id": "0_fsojZEctF-"
      },
      "execution_count": null,
      "outputs": []
    },
    {
      "cell_type": "code",
      "source": [
        "#to find a unit vector corresponding to a vector A\n",
        "def unit_vector(A):\n",
        "    return A / np.linalg.norm(A)\n",
        "    #vector/magnitude is unit vector\n"
      ],
      "metadata": {
        "id": "aExjrgFOYNwT"
      },
      "execution_count": null,
      "outputs": []
    },
    {
      "cell_type": "code",
      "source": [],
      "metadata": {
        "id": "0YOc6bl3WPqK"
      },
      "execution_count": null,
      "outputs": []
    },
    {
      "cell_type": "markdown",
      "source": [],
      "metadata": {
        "id": "0AjGSSSAdElR"
      }
    }
  ]
}