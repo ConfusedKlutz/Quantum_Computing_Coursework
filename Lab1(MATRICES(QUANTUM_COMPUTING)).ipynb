{
  "nbformat": 4,
  "nbformat_minor": 0,
  "metadata": {
    "colab": {
      "provenance": [],
      "include_colab_link": true
    },
    "kernelspec": {
      "name": "python3",
      "display_name": "Python 3"
    },
    "language_info": {
      "name": "python"
    }
  },
  "cells": [
    {
      "cell_type": "markdown",
      "metadata": {
        "id": "view-in-github",
        "colab_type": "text"
      },
      "source": [
        "<a href=\"https://colab.research.google.com/github/ConfusedKlutz/Quantum_Computing_Coursework/blob/main/Lab1(MATRICES(QUANTUM_COMPUTING)).ipynb\" target=\"_parent\"><img src=\"https://colab.research.google.com/assets/colab-badge.svg\" alt=\"Open In Colab\"/></a>"
      ]
    },
    {
      "cell_type": "markdown",
      "source": [
        "Matrices in Python Create a new notebook and add the following functionalities in the Colab\n",
        "notebook using NumPy:\n",
        "• Read a matrix from the Keyboard.\n",
        "• Find the transpose of a matrix.\n",
        "• Find the Determinant of a matrix ( Using linalg.det in NumPy).\n",
        "• Find Rank of a matrix ( Using linalg.matrixrank in numpy).\n",
        "• Find Trace of the matrix\n",
        "• Find Eigenvalue and Eigenvectors of a square matrix (Use linalg.eig).\n",
        "• Find the Inverse of a matrix"
      ],
      "metadata": {
        "id": "bApB7Zqldh1-"
      }
    },
    {
      "cell_type": "code",
      "source": [
        "import numpy as np\n",
        "import pandas as pd\n",
        "\n",
        "#read a matrix from the keyboard\n",
        "n  = int(input(\"enter rows\"))\n",
        "m = int(input(\"enter columns\"))\n",
        "matrix = []\n",
        "for rows in range(n):\n",
        "  a = []\n",
        "  for columns in range(m):\n",
        "    a.append (int(input()))\n",
        "  matrix.append(a)\n",
        "\n",
        "for row in range(n):\n",
        "    a = []\n",
        "    # A for loop for column entries\n",
        "    for column in range(m):\n",
        "        a.append(int(input()))\n",
        "    matrix.append(a)\n",
        "\n",
        "# For printing the matrix\n",
        "for row in range(n):\n",
        "    for column in range(m):\n",
        "        print(matrix[row][column], end=\" \")\n",
        "    print()"
      ],
      "metadata": {
        "colab": {
          "base_uri": "https://localhost:8080/"
        },
        "id": "FZKHk_IEdi5p",
        "outputId": "52293c6b-6bbb-4bbc-f95d-be832df9afdc"
      },
      "execution_count": null,
      "outputs": [
        {
          "output_type": "stream",
          "name": "stdout",
          "text": [
            "enter rows2\n",
            "enter columns2\n",
            "1\n",
            "2\n",
            "3\n",
            "4\n",
            "5\n",
            "6\n",
            "7\n",
            "8\n",
            "1 2 \n",
            "3 4 \n"
          ]
        }
      ]
    },
    {
      "cell_type": "code",
      "source": [
        "#find transpose of the matrix\n",
        "print(np.transpose(matrix))\n",
        "\n",
        "#find determinant of matrix\n",
        "np.linalg.det(matrix)\n",
        "\n",
        "#find rank of matrix\n",
        "np.linalg.matrix_rank(matrix)\n",
        "\n",
        "#find trace of matrix\n",
        "np.trace(matrix)\n",
        "\n",
        "#find eigenvalue and eigenvector of matrix\n",
        "eigenvalues, eigenvectors = np.linalg.eig(matrix)\n",
        "\n",
        "#find inverse of a matrix\n",
        "np.linalg.inv(matrix)\n"
      ],
      "metadata": {
        "colab": {
          "base_uri": "https://localhost:8080/"
        },
        "id": "Fe_vN55qe0OI",
        "outputId": "d8632c6c-f563-4836-ed3b-87e8e759396b"
      },
      "execution_count": null,
      "outputs": [
        {
          "output_type": "stream",
          "name": "stdout",
          "text": [
            "[[1 3]\n",
            " [2 4]]\n"
          ]
        },
        {
          "output_type": "execute_result",
          "data": {
            "text/plain": [
              "array([[-2. ,  1. ],\n",
              "       [ 1.5, -0.5]])"
            ]
          },
          "metadata": {},
          "execution_count": 5
        }
      ]
    },
    {
      "cell_type": "code",
      "source": [],
      "metadata": {
        "id": "KATTRF2qfg_R"
      },
      "execution_count": null,
      "outputs": []
    }
  ]
}