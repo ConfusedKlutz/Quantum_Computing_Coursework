{
  "nbformat": 4,
  "nbformat_minor": 0,
  "metadata": {
    "colab": {
      "provenance": [],
      "include_colab_link": true
    },
    "kernelspec": {
      "name": "python3",
      "display_name": "Python 3"
    },
    "language_info": {
      "name": "python"
    }
  },
  "cells": [
    {
      "cell_type": "markdown",
      "metadata": {
        "id": "view-in-github",
        "colab_type": "text"
      },
      "source": [
        "<a href=\"https://colab.research.google.com/github/ConfusedKlutz/Quantum_Computing_Coursework/blob/main/LAB1(COMPLEX_NUMBERS).ipynb\" target=\"_parent\"><img src=\"https://colab.research.google.com/assets/colab-badge.svg\" alt=\"Open In Colab\"/></a>"
      ]
    },
    {
      "cell_type": "code",
      "execution_count": null,
      "metadata": {
        "id": "c9QTb46Af78R"
      },
      "outputs": [],
      "source": []
    },
    {
      "cell_type": "markdown",
      "source": [
        "Complex Number in Python Refer to https://realpython.com/python-complex-numbers/using-python-\n",
        "complex-numbers-as-2d-vectors or any other site to read how to use complex numbers in python.\n",
        "for Create a new notebook and add the following functionalities in the Colab notebook:\n",
        "• Read a complex number from the keyboard.\n",
        "• Find the complex conjugate of the complex number.\n",
        "• Addition, subtraction, multiplication, and divisions of complex numbers.\n",
        "• understands the concept of a complex number as a 2D vector.\n",
        "• Find the length or magnitude of a complex number."
      ],
      "metadata": {
        "id": "5psD3vqiigq1"
      }
    },
    {
      "cell_type": "code",
      "source": [
        "#read a complex number from the keyboard\n",
        "import cmath\n",
        "\n",
        "x=5\n",
        "y=3\n",
        "\n",
        "z = complex(x,y)\n",
        "\n",
        "print(z.real)\n",
        "print(z.imag)\n"
      ],
      "metadata": {
        "colab": {
          "base_uri": "https://localhost:8080/"
        },
        "id": "VCVcgq5LgG29",
        "outputId": "3acb916e-4cf4-447d-b37b-6500198395a2"
      },
      "execution_count": null,
      "outputs": [
        {
          "output_type": "stream",
          "name": "stdout",
          "text": [
            "5.0\n",
            "3.0\n"
          ]
        }
      ]
    },
    {
      "cell_type": "code",
      "source": [
        "import cmath\n",
        "z = 5 + 3j\n",
        "print(cmath.phase(z))\n",
        "print(z.real, z.imag)"
      ],
      "metadata": {
        "colab": {
          "base_uri": "https://localhost:8080/"
        },
        "id": "tIVpA5D6g9ar",
        "outputId": "bac7280c-5ea6-499e-bb40-4db59f5e32a7"
      },
      "execution_count": null,
      "outputs": [
        {
          "output_type": "stream",
          "name": "stdout",
          "text": [
            "0.5404195002705842\n",
            "5.0 3.0\n"
          ]
        }
      ]
    },
    {
      "cell_type": "code",
      "source": [
        "import cmath\n",
        "\n",
        "# Input a complex number from the keyboard\n",
        "real_part = float(input(\"Enter the real part of the complex number: \"))\n",
        "imaginary_part = float(input(\"Enter the imaginary part of the complex number: \"))\n",
        "complex_number = complex(real_part, imaginary_part)\n",
        "\n",
        "# Find the conjugate of the complex number\n",
        "conjugate = complex_number.conjugate()\n",
        "\n",
        "# Perform addition, subtraction, multiplication, and division with another complex number\n",
        "real_part2 = float(input(\"\\nEnter the real part of the second complex number: \"))\n",
        "imaginary_part2 = float(input(\"Enter the imaginary part of the second complex number: \"))\n",
        "complex_number2 = complex(real_part2, imaginary_part2)\n",
        "\n",
        "addition = complex_number + complex_number2\n",
        "subtraction = complex_number - complex_number2\n",
        "multiplication = complex_number * complex_number2\n",
        "division = complex_number / complex_number2 if complex_number2 != 0 else \"Undefined (division by zero)\"\n",
        "\n",
        "# Find the magnitude (length) of the complex number\n",
        "magnitude = abs(complex_number)\n",
        "\n",
        "# Display results\n",
        "print(\"\\nResults:\")\n",
        "print(f\"Complex number: {complex_number}\")\n",
        "print(f\"Conjugate: {conjugate}\")\n",
        "print(f\"Addition with {complex_number2}: {addition}\")\n",
        "print(f\"Subtraction with {complex_number2}: {subtraction}\")\n",
        "print(f\"Multiplication with {complex_number2}: {multiplication}\")\n",
        "print(f\"Division with {complex_number2}: {division}\")\n",
        "print(f\"Magnitude (Length): {magnitude:.2f}\")\n",
        "\n",
        "# Explanation of complex numbers as 2D vectors\n",
        "print(\"\\nConcept of Complex Number as a 2D Vector:\")\n",
        "print(f\"Vector representation of {complex_number}: ({real_part}, {imaginary_part})\")\n",
        "print(f\"The magnitude is the length from the origin (0, 0) to ({real_part}, {imaginary_part}).\")\n"
      ],
      "metadata": {
        "colab": {
          "base_uri": "https://localhost:8080/"
        },
        "id": "-qowW1n3hKKq",
        "outputId": "80108446-fef1-4583-c8d5-73e2dafb77ad"
      },
      "execution_count": null,
      "outputs": [
        {
          "output_type": "stream",
          "name": "stdout",
          "text": [
            "Enter the real part of the complex number: 5\n",
            "Enter the imaginary part of the complex number: 3\n",
            "\n",
            "Enter the real part of the second complex number: 4\n",
            "Enter the imaginary part of the second complex number: 2\n",
            "\n",
            "Results:\n",
            "Complex number: (5+3j)\n",
            "Conjugate: (5-3j)\n",
            "Addition with (4+2j): (9+5j)\n",
            "Subtraction with (4+2j): (1+1j)\n",
            "Multiplication with (4+2j): (14+22j)\n",
            "Division with (4+2j): (1.3+0.1j)\n",
            "Magnitude (Length): 5.83\n",
            "\n",
            "Concept of Complex Number as a 2D Vector:\n",
            "Vector representation of (5+3j): (5.0, 3.0)\n",
            "The magnitude is the length from the origin (0, 0) to (5.0, 3.0).\n"
          ]
        }
      ]
    },
    {
      "cell_type": "markdown",
      "source": [],
      "metadata": {
        "id": "fnlUribLgEqX"
      }
    }
  ]
}